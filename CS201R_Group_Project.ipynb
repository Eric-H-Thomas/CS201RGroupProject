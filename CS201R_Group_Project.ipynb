{
  "nbformat": 4,
  "nbformat_minor": 0,
  "metadata": {
    "colab": {
      "provenance": []
    },
    "kernelspec": {
      "name": "python3",
      "display_name": "Python 3"
    },
    "language_info": {
      "name": "python"
    }
  },
  "cells": [
    {
      "cell_type": "code",
      "source": [
        "import pandas as pd\n",
        "from sklearn.model_selection import train_test_split\n",
        "import numpy as np\n",
        "from sklearn.linear_model import LinearRegression\n",
        "from sklearn.preprocessing import OneHotEncoder\n",
        "from sklearn.metrics import mean_squared_error\n",
        "from sklearn.neural_network import MLPRegressor\n",
        "from sklearn.tree import DecisionTreeRegressor"
      ],
      "metadata": {
        "id": "K9ZfCBKVJvKX"
      },
      "execution_count": 39,
      "outputs": []
    },
    {
      "cell_type": "code",
      "source": [
        "# Read in and prep data for running on ML models\n",
        "\n",
        "# Read in data\n",
        "df = pd.read_excel('/content/QBData/MasterData.xlsx')\n",
        "\n",
        "# Drop unnecessary columns\n",
        "df = df.drop(columns=['Player','Pos','Conf'])\n",
        "\n",
        "# Encode the categorical data\n",
        "encoded_df = pd.get_dummies(df)\n",
        "\n",
        "encoded_df.head()\n",
        "\n",
        "# Separate the explanatory and target variables\n",
        "X = encoded_df.drop(columns='AVG. QBR') # All columns except AVG. QBR are features\n",
        "y = encoded_df['AVG. QBR'] # The AVG. QBR column is the target variable\n",
        "\n",
        "# Split up the test and training data\n",
        "X_train, X_test, y_train, y_test = train_test_split(X, y, test_size = 0.2)"
      ],
      "metadata": {
        "id": "B1Gfldwu6Sqc"
      },
      "execution_count": 31,
      "outputs": []
    },
    {
      "cell_type": "code",
      "source": [
        "# Experiment with linear regression\n",
        "\n",
        "clf = LinearRegression()\n",
        "clf.fit(X_train, y_train)\n",
        "y_hat = clf.predict(X_test)\n",
        "mse = mean_squared_error(y_test, y_hat)\n",
        "print(f\"Mean squared error: {mse}\")\n"
      ],
      "metadata": {
        "colab": {
          "base_uri": "https://localhost:8080/"
        },
        "id": "oi6G4M326aA3",
        "outputId": "8007f420-7cb7-4436-b45d-18d98f10de3a"
      },
      "execution_count": 35,
      "outputs": [
        {
          "output_type": "stream",
          "name": "stdout",
          "text": [
            "Mean squared error: 822.356023614869\n"
          ]
        }
      ]
    },
    {
      "cell_type": "code",
      "source": [
        "# Experiment with MLP model\n",
        "\n",
        "clf = MLPRegressor()\n",
        "clf.fit(X_train, y_train)\n",
        "y_hat = clf.predict(X_test)\n",
        "mse = mean_squared_error(y_test, y_hat)\n",
        "print(f\"Mean squared error: {mse}\")"
      ],
      "metadata": {
        "colab": {
          "base_uri": "https://localhost:8080/"
        },
        "id": "JqTMpnT26drp",
        "outputId": "6a04a7c7-874c-441c-99b9-bc743eb087cd"
      },
      "execution_count": 37,
      "outputs": [
        {
          "output_type": "stream",
          "name": "stdout",
          "text": [
            "Mean squared error: 5264.54756976718\n"
          ]
        }
      ]
    },
    {
      "cell_type": "code",
      "source": [
        "# Experiment with decision tree model\n",
        "\n",
        "clf = DecisionTreeRegressor()\n",
        "clf.fit(X_train, y_train)\n",
        "y_hat = clf.predict(X_test)\n",
        "mse = mean_squared_error(y_test, y_hat)\n",
        "print(f\"Mean squared error: {mse}\")"
      ],
      "metadata": {
        "colab": {
          "base_uri": "https://localhost:8080/"
        },
        "id": "_3K5Cce-6ip4",
        "outputId": "a2d40944-42e9-43c0-f26c-e5b8dec7fdc6"
      },
      "execution_count": 40,
      "outputs": [
        {
          "output_type": "stream",
          "name": "stdout",
          "text": [
            "Mean squared error: 258.11635600000005\n"
          ]
        }
      ]
    }
  ]
}